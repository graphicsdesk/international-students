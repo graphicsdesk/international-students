{
 "cells": [
  {
   "cell_type": "markdown",
   "metadata": {},
   "source": [
    "This notebook will analyze GSS' Columbia data."
   ]
  },
  {
   "cell_type": "code",
   "execution_count": 14,
   "metadata": {},
   "outputs": [],
   "source": [
    "from collections import defaultdict\n",
    "import pandas as pd\n",
    "import numpy as np\n",
    "import matplotlib.pyplot as plt"
   ]
  },
  {
   "cell_type": "code",
   "execution_count": 42,
   "metadata": {},
   "outputs": [
    {
     "data": {
      "text/html": [
       "<div>\n",
       "<style scoped>\n",
       "    .dataframe tbody tr th:only-of-type {\n",
       "        vertical-align: middle;\n",
       "    }\n",
       "\n",
       "    .dataframe tbody tr th {\n",
       "        vertical-align: top;\n",
       "    }\n",
       "\n",
       "    .dataframe thead th {\n",
       "        text-align: right;\n",
       "    }\n",
       "</style>\n",
       "<table border=\"1\" class=\"dataframe\">\n",
       "  <thead>\n",
       "    <tr style=\"text-align: right;\">\n",
       "      <th></th>\n",
       "      <th>Year</th>\n",
       "      <th>Broad Fields</th>\n",
       "      <th>Citizenship</th>\n",
       "      <th>Count</th>\n",
       "    </tr>\n",
       "  </thead>\n",
       "  <tbody>\n",
       "    <tr>\n",
       "      <th>0</th>\n",
       "      <td>2016</td>\n",
       "      <td>Total for selected values</td>\n",
       "      <td>Total for selected values</td>\n",
       "      <td>6498.0</td>\n",
       "    </tr>\n",
       "    <tr>\n",
       "      <th>1</th>\n",
       "      <td>2016</td>\n",
       "      <td>Total for selected values</td>\n",
       "      <td>Total for selected values</td>\n",
       "      <td>6498.0</td>\n",
       "    </tr>\n",
       "    <tr>\n",
       "      <th>2</th>\n",
       "      <td>2016</td>\n",
       "      <td>Biological sciences</td>\n",
       "      <td>Total for selected values</td>\n",
       "      <td>790.0</td>\n",
       "    </tr>\n",
       "    <tr>\n",
       "      <th>3</th>\n",
       "      <td>2016</td>\n",
       "      <td>Biological sciences</td>\n",
       "      <td>Foreign nationals</td>\n",
       "      <td>235.0</td>\n",
       "    </tr>\n",
       "    <tr>\n",
       "      <th>4</th>\n",
       "      <td>2016</td>\n",
       "      <td>Biological sciences</td>\n",
       "      <td>U.S. citizens and permanent residents (non-U.S...</td>\n",
       "      <td>555.0</td>\n",
       "    </tr>\n",
       "  </tbody>\n",
       "</table>\n",
       "</div>"
      ],
      "text/plain": [
       "   Year               Broad Fields  \\\n",
       "0  2016  Total for selected values   \n",
       "1  2016  Total for selected values   \n",
       "2  2016        Biological sciences   \n",
       "3  2016        Biological sciences   \n",
       "4  2016        Biological sciences   \n",
       "\n",
       "                                         Citizenship   Count  \n",
       "0                          Total for selected values  6498.0  \n",
       "1                          Total for selected values  6498.0  \n",
       "2                          Total for selected values   790.0  \n",
       "3                                  Foreign nationals   235.0  \n",
       "4  U.S. citizens and permanent residents (non-U.S...   555.0  "
      ]
     },
     "execution_count": 42,
     "metadata": {},
     "output_type": "execute_result"
    }
   ],
   "source": [
    "df = pd.read_csv('../data/GSS_Columbia.csv', header=4, index_col=False, thousands=',')\n",
    "df.columns = ['Year', 'Institution Name', 'Broad Fields', 'Citizenship', 'Count']\n",
    "df = df.drop('Institution Name', 1) # We know all data describes Columbia\n",
    "df.head()"
   ]
  },
  {
   "cell_type": "code",
   "execution_count": 58,
   "metadata": {},
   "outputs": [
    {
     "data": {
      "text/html": [
       "<div>\n",
       "<style scoped>\n",
       "    .dataframe tbody tr th:only-of-type {\n",
       "        vertical-align: middle;\n",
       "    }\n",
       "\n",
       "    .dataframe tbody tr th {\n",
       "        vertical-align: top;\n",
       "    }\n",
       "\n",
       "    .dataframe thead th {\n",
       "        text-align: right;\n",
       "    }\n",
       "</style>\n",
       "<table border=\"1\" class=\"dataframe\">\n",
       "  <thead>\n",
       "    <tr style=\"text-align: right;\">\n",
       "      <th></th>\n",
       "      <th>Year</th>\n",
       "      <th>Broad Fields</th>\n",
       "      <th>Citizenship</th>\n",
       "      <th>Count</th>\n",
       "    </tr>\n",
       "  </thead>\n",
       "  <tbody>\n",
       "    <tr>\n",
       "      <th>702</th>\n",
       "      <td>1994</td>\n",
       "      <td>Social sciences</td>\n",
       "      <td>Foreign nationals</td>\n",
       "      <td>207.0</td>\n",
       "    </tr>\n",
       "    <tr>\n",
       "      <th>703</th>\n",
       "      <td>1994</td>\n",
       "      <td>Social sciences</td>\n",
       "      <td>U.S. citizens and permanent residents (non-U.S...</td>\n",
       "      <td>547.0</td>\n",
       "    </tr>\n",
       "    <tr>\n",
       "      <th>704</th>\n",
       "      <td>NOTES:</td>\n",
       "      <td>NaN</td>\n",
       "      <td>NaN</td>\n",
       "      <td>NaN</td>\n",
       "    </tr>\n",
       "    <tr>\n",
       "      <th>705</th>\n",
       "      <td>SOURCE: National Science Foundation, National ...</td>\n",
       "      <td>NaN</td>\n",
       "      <td>NaN</td>\n",
       "      <td>NaN</td>\n",
       "    </tr>\n",
       "    <tr>\n",
       "      <th>706</th>\n",
       "      <td>Downloaded 2019/03/14 at 12:23:07 PM EST</td>\n",
       "      <td>NaN</td>\n",
       "      <td>NaN</td>\n",
       "      <td>NaN</td>\n",
       "    </tr>\n",
       "  </tbody>\n",
       "</table>\n",
       "</div>"
      ],
      "text/plain": [
       "                                                  Year     Broad Fields  \\\n",
       "702                                               1994  Social sciences   \n",
       "703                                               1994  Social sciences   \n",
       "704                                             NOTES:              NaN   \n",
       "705  SOURCE: National Science Foundation, National ...              NaN   \n",
       "706           Downloaded 2019/03/14 at 12:23:07 PM EST              NaN   \n",
       "\n",
       "                                           Citizenship  Count  \n",
       "702                                  Foreign nationals  207.0  \n",
       "703  U.S. citizens and permanent residents (non-U.S...  547.0  \n",
       "704                                                NaN    NaN  \n",
       "705                                                NaN    NaN  \n",
       "706                                                NaN    NaN  "
      ]
     },
     "execution_count": 58,
     "metadata": {},
     "output_type": "execute_result"
    }
   ],
   "source": [
    "df.tail()"
   ]
  },
  {
   "cell_type": "code",
   "execution_count": 60,
   "metadata": {},
   "outputs": [],
   "source": [
    "d = defaultdict(lambda: defaultdict(lambda: defaultdict(int)))\n",
    "\n",
    "for _, row in list(df.iterrows())[:-3]: # Ignore file's metadata\n",
    "    d[int(row['Year'])][row['Broad Fields']][row['Citizenship']] = row['Count']"
   ]
  },
  {
   "cell_type": "code",
   "execution_count": 62,
   "metadata": {},
   "outputs": [
    {
     "data": {
      "text/plain": [
       "defaultdict(int,\n",
       "            {'Total for selected values': 790.0,\n",
       "             'Foreign nationals': 235.0,\n",
       "             'U.S. citizens and permanent residents (non-U.S. citizens holding green cards)': 555.0})"
      ]
     },
     "execution_count": 62,
     "metadata": {},
     "output_type": "execute_result"
    }
   ],
   "source": [
    "d[2016]['Biological sciences']"
   ]
  },
  {
   "cell_type": "code",
   "execution_count": null,
   "metadata": {},
   "outputs": [],
   "source": [
    "def plotField(field):\n",
    "    counts = []\n",
    "    for year in range(1994, 2017):\n",
    "        d[year]"
   ]
  }
 ],
 "metadata": {
  "kernelspec": {
   "display_name": "Python 3",
   "language": "python",
   "name": "python3"
  },
  "language_info": {
   "codemirror_mode": {
    "name": "ipython",
    "version": 3
   },
   "file_extension": ".py",
   "mimetype": "text/x-python",
   "name": "python",
   "nbconvert_exporter": "python",
   "pygments_lexer": "ipython3",
   "version": "3.7.0"
  }
 },
 "nbformat": 4,
 "nbformat_minor": 2
}

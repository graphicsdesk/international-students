{
 "cells": [
  {
   "cell_type": "markdown",
   "metadata": {},
   "source": [
    "# Guiding questions\n",
    "\n",
    "How many international students are studying in the U.S., and from where?"
   ]
  },
  {
   "cell_type": "code",
   "execution_count": 2,
   "metadata": {},
   "outputs": [],
   "source": [
    "from bs4 import BeautifulSoup, Tag\n",
    "import pandas as pd\n",
    "import numpy as np\n",
    "import matplotlib.pyplot as plt\n",
    "import requests"
   ]
  },
  {
   "cell_type": "code",
   "execution_count": 3,
   "metadata": {},
   "outputs": [],
   "source": [
    "domain = 'https://studyinthestates.dhs.gov'\n",
    "rootPage = requests.get(domain + '/sevis-by-the-numbers/sevis-by-the-numbers-data')\n",
    "rootPage.raise_for_status()\n",
    "\n",
    "soup = BeautifulSoup(rootPage.content)"
   ]
  },
  {
   "cell_type": "code",
   "execution_count": 4,
   "metadata": {},
   "outputs": [],
   "source": [
    "listItems = soup.findAll('div', {'class': 'field-item even'})[0].ul\n",
    "paths = []\n",
    "for li in listItems:\n",
    "    if not isinstance(li, Tag):\n",
    "        continue\n",
    "    paths.append(li.a['href'])"
   ]
  },
  {
   "cell_type": "code",
   "execution_count": 5,
   "metadata": {},
   "outputs": [],
   "source": [
    "def getReport(path):\n",
    "    title = path.split('/')[-1]\n",
    "    r = requests.get(domain + path)\n",
    "    r.raise_for_status()\n",
    "    df = pd.read_html(r.content)[0]\n",
    "    \n",
    "    if 'Country of Citizenship' in df.columns:\n",
    "        df.set_index('Country of Citizenship', inplace=True)\n",
    "    else:\n",
    "        print('Report {} is not in the \"correct\" format.'.format(title))\n",
    "    print('Successfully scanned report', title)\n",
    "    return {\n",
    "        'dataframe': df,\n",
    "        'title': title,\n",
    "    }"
   ]
  },
  {
   "cell_type": "code",
   "execution_count": null,
   "metadata": {},
   "outputs": [
    {
     "name": "stdout",
     "output_type": "stream",
     "text": [
      "Successfully scanned report april-2014\n",
      "Successfully scanned report july-2014\n",
      "Successfully scanned report october-2014\n",
      "Successfully scanned report february-2015\n",
      "Successfully scanned report september-2015\n",
      "Successfully scanned report september-2015-stem-data\n",
      "Successfully scanned report december-2015\n",
      "Successfully scanned report december-2015-stem-data\n",
      "Successfully scanned report march-2016\n",
      "Successfully scanned report march-2016-stem-data\n",
      "Successfully scanned report july-2016\n",
      "Successfully scanned report november-2016\n",
      "Successfully scanned report november-2016-stem-data\n",
      "Successfully scanned report march-2017\n",
      "Successfully scanned report march-2017-stem-data\n",
      "Successfully scanned report may-2017\n",
      "Successfully scanned report may-2017-stem-data\n",
      "Successfully scanned report december-2017\n",
      "Successfully scanned report december-2017-stem-data\n",
      "Successfully scanned report march-2018\n",
      "Successfully scanned report march-2018-stem-data\n",
      "Successfully scanned report july-2018\n",
      "Report july-2018-stem-data is not in the \"correct\" format.\n",
      "Successfully scanned report july-2018-stem-data\n",
      "Successfully scanned report august-2018\n"
     ]
    }
   ],
   "source": [
    "reports = []\n",
    "\n",
    "for path in paths:\n",
    "    reports.append(getReport(path))"
   ]
  },
  {
   "cell_type": "code",
   "execution_count": null,
   "metadata": {},
   "outputs": [],
   "source": [
    "data = []\n",
    "\n",
    "for report in reports:\n",
    "    df = report['dataframe']\n",
    "    country = 'PAKISTAN'\n",
    "    if country not in df.index:\n",
    "        continue\n",
    "    row = df.loc[country]\n",
    "    try:\n",
    "        data.append(int(row['# of Active Students']))\n",
    "    except:\n",
    "        data.append(df.groupby(['Country of Citizenship']).sum().loc[country].loc['Active Number of Students'])"
   ]
  },
  {
   "cell_type": "code",
   "execution_count": null,
   "metadata": {},
   "outputs": [],
   "source": [
    "plt.plot(data + [12783])"
   ]
  }
 ],
 "metadata": {
  "kernelspec": {
   "display_name": "Python 3",
   "language": "python",
   "name": "python3"
  },
  "language_info": {
   "codemirror_mode": {
    "name": "ipython",
    "version": 3
   },
   "file_extension": ".py",
   "mimetype": "text/x-python",
   "name": "python",
   "nbconvert_exporter": "python",
   "pygments_lexer": "ipython3",
   "version": "3.7.0"
  }
 },
 "nbformat": 4,
 "nbformat_minor": 2
}

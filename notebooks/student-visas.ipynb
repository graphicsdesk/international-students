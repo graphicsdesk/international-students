{
 "cells": [
  {
   "cell_type": "code",
   "execution_count": 22,
   "metadata": {},
   "outputs": [],
   "source": [
    "from bs4 import BeautifulSoup, Tag\n",
    "import pandas as pd\n",
    "import requests"
   ]
  },
  {
   "cell_type": "code",
   "execution_count": 28,
   "metadata": {},
   "outputs": [],
   "source": [
    "domain = 'https://studyinthestates.dhs.gov'\n",
    "rootPage = requests.get('https://studyinthestates.dhs.gov/sevis-by-the-numbers/sevis-by-the-numbers-data')\n",
    "rootPage.raise_for_status()\n",
    "\n",
    "soup = BeautifulSoup(rootPage.content)"
   ]
  },
  {
   "cell_type": "code",
   "execution_count": null,
   "metadata": {},
   "outputs": [
    {
     "name": "stdout",
     "output_type": "stream",
     "text": [
      "Done reading April 2014 SEVIS report.\n",
      "Done reading July 2014 SEVIS report.\n",
      "Done reading October 2014 SEVIS report.\n"
     ]
    }
   ],
   "source": [
    "listItems = soup.findAll('div', {'class': 'field-item even'})[0].ul\n",
    "reports = []\n",
    "for li in listItems:\n",
    "    if not isinstance(li, Tag):\n",
    "        continue\n",
    "    # capturing first two words of title gets us \"Month Year Type\"\n",
    "    title = ' '.join(li.a.string.split(' ')[:3])\n",
    "    path = li.a['href']\n",
    "    r = requests.get(domain + path)\n",
    "    r.raise_for_status()\n",
    "    reports.append({\n",
    "        'title': title,\n",
    "        'dataframe': pd.read_html(r.content)[0]\n",
    "    })\n",
    "    print('Done reading {} report.'.format(title))"
   ]
  }
 ],
 "metadata": {
  "kernelspec": {
   "display_name": "Python 3",
   "language": "python",
   "name": "python3"
  },
  "language_info": {
   "codemirror_mode": {
    "name": "ipython",
    "version": 3
   },
   "file_extension": ".py",
   "mimetype": "text/x-python",
   "name": "python",
   "nbconvert_exporter": "python",
   "pygments_lexer": "ipython3",
   "version": "3.7.0"
  }
 },
 "nbformat": 4,
 "nbformat_minor": 2
}

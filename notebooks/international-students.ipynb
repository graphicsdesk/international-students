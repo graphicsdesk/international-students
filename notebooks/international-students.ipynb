{
 "cells": [
  {
   "cell_type": "code",
   "execution_count": 9,
   "metadata": {},
   "outputs": [],
   "source": [
    "from bs4 import BeautifulSoup, Tag\n",
    "import pandas as pd\n",
    "import numpy as np\n",
    "import matplotlib.pyplot as plt\n",
    "import requests"
   ]
  },
  {
   "cell_type": "markdown",
   "metadata": {},
   "source": [
    "# Places of Origin\n",
    "\n",
    "Where do international students come from?"
   ]
  },
  {
   "cell_type": "code",
   "execution_count": 115,
   "metadata": {},
   "outputs": [],
   "source": [
    "# @param year Two-digit year of the 21st century\n",
    "def getPlacesOfOrigin(year):\n",
    "    r = requests.get(\n",
    "        f'https://www.iie.org/Research-and-Insights/Open-Doors/Data/International-Students/Places-of-Origin/All-Places-of-Origin/{year}-{str(year + 1)[-2:]}'\n",
    "    )\n",
    "    table = BeautifulSoup(r.content).table\n",
    "    table.tr.decompose() # delete first row\n",
    "    for td in table.tr.findAll('td'): # make the current first row headers for pandas parser\n",
    "        td.name = 'th'\n",
    "\n",
    "    df = pd.read_html(str(table))[0]\n",
    "    df = df[pd.notnull(df['Place of Origin'])]\n",
    "    df = df.set_index('Place of Origin')\n",
    "    return df"
   ]
  },
  {
   "cell_type": "code",
   "execution_count": 119,
   "metadata": {},
   "outputs": [
    {
     "name": "stdout",
     "output_type": "stream",
     "text": [
      "Successfully scanned 2001 data.\n",
      "Successfully scanned 2002 data.\n",
      "Successfully scanned 2003 data.\n",
      "Successfully scanned 2004 data.\n",
      "Successfully scanned 2005 data.\n",
      "Successfully scanned 2006 data.\n",
      "Successfully scanned 2007 data.\n",
      "Successfully scanned 2008 data.\n",
      "Successfully scanned 2009 data.\n",
      "Successfully scanned 2010 data.\n",
      "Successfully scanned 2011 data.\n",
      "Successfully scanned 2012 data.\n",
      "Successfully scanned 2013 data.\n",
      "Successfully scanned 2014 data.\n",
      "Successfully scanned 2015 data.\n"
     ]
    }
   ],
   "source": [
    "data = []\n",
    "for year in range(2001, 2016):\n",
    "    df = getPlacesOfOrigin(year)\n",
    "    data.append(df)\n",
    "    print(f'Successfully scanned {year} data.')"
   ]
  },
  {
   "cell_type": "code",
   "execution_count": null,
   "metadata": {},
   "outputs": [],
   "source": [
    "for idx, df in enumerate(data):\n",
    "    "
   ]
  }
 ],
 "metadata": {
  "kernelspec": {
   "display_name": "Python 3",
   "language": "python",
   "name": "python3"
  },
  "language_info": {
   "codemirror_mode": {
    "name": "ipython",
    "version": 3
   },
   "file_extension": ".py",
   "mimetype": "text/x-python",
   "name": "python",
   "nbconvert_exporter": "python",
   "pygments_lexer": "ipython3",
   "version": "3.7.0"
  }
 },
 "nbformat": 4,
 "nbformat_minor": 2
}

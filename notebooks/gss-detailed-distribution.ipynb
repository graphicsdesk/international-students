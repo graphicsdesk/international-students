{
 "cells": [
  {
   "cell_type": "markdown",
   "metadata": {},
   "source": [
    "# Guiding questions\n",
    "\n",
    "What detailed fields have international students been shifting away from and towards?"
   ]
  },
  {
   "cell_type": "code",
   "execution_count": 1,
   "metadata": {},
   "outputs": [],
   "source": [
    "from collections import defaultdict\n",
    "import pandas as pd\n",
    "import numpy as np\n",
    "import matplotlib.pyplot as plt\n",
    "import matplotlib.cm as cm"
   ]
  },
  {
   "cell_type": "code",
   "execution_count": 2,
   "metadata": {},
   "outputs": [],
   "source": [
    "df = pd.read_csv('../data/GSS_Columbia_Detailed.csv', header=4, index_col=False, thousands=',')\n",
    "df.columns = [\n",
    "    'Year', 'Institution Name', 'Detailed Fields', 'Citizenship', 'Count'\n",
    "]\n",
    "df = df.drop('Institution Name', 1) # We assume all data describes Columbia\n",
    "df = df[1:-3] # Drop first row (total) annd last 3 rows (footnotes)\n",
    "\n",
    "# Re-structure dataframe into a tree\n",
    "d = defaultdict(lambda: defaultdict(dict))\n",
    "for _, row in df.iterrows():\n",
    "    year = int(row['Year'])\n",
    "    field = row['Detailed Fields']\n",
    "    citizenship = row['Citizenship']\n",
    "    d[year][field][citizenship] = row['Count']\n",
    "\n",
    "ufields = df['Detailed Fields'].unique()"
   ]
  },
  {
   "cell_type": "code",
   "execution_count": 3,
   "metadata": {},
   "outputs": [],
   "source": [
    "DOM_COL_NAME = 'U.S. citizens and permanent residents (non-U.S. citizens holding green cards)'\n",
    "INT_COL_NAME = 'Foreign nationals'\n",
    "\n",
    "DOM_LABEL = 'U.S. citizens & permanent residents'\n",
    "INT_LABEL = INT_COL_NAME"
   ]
  },
  {
   "cell_type": "code",
   "execution_count": 4,
   "metadata": {},
   "outputs": [],
   "source": [
    "years = np.arange(1994, 2017)"
   ]
  },
  {
   "cell_type": "code",
   "execution_count": 5,
   "metadata": {},
   "outputs": [],
   "source": [
    "def sumLists(a, b):\n",
    "    return [(a[i] or 0) + (b[i] or 0) for i in range(len(a))]\n",
    "\n",
    "yearTotals = [0 for _ in range(len(years))]\n",
    "fieldCounts = {}\n",
    "for f in ufields:\n",
    "    fieldCounts[f] = [d[year][f].get(INT_COL_NAME, None) for year in years]\n",
    "    yearTotals = sumLists(yearTotals, fieldCounts[f])"
   ]
  },
  {
   "cell_type": "code",
   "execution_count": 6,
   "metadata": {},
   "outputs": [],
   "source": [
    "selectedFields = [\n",
    "    'Statistics', \n",
    "    'Industrial and manufacturing engineering',\n",
    "    'Computer sciences',\n",
    "    'Electrical engineering',\n",
    "    'Engineering science, mechanics, and physics',\n",
    "    'Mechanical engineering',\n",
    "    'Mathematics and applied mathematics',\n",
    "    'Economics (except agricultural)',\n",
    "    'Chemistry',\n",
    "    'Physics',\n",
    "    'Biology',\n",
    "    'Sociology',\n",
    "    'Nutrition'\n",
    "]"
   ]
  },
  {
   "cell_type": "code",
   "execution_count": 7,
   "metadata": {},
   "outputs": [],
   "source": [
    "from scipy.interpolate import interp1d\n",
    "from matplotlib import cm\n",
    "from matplotlib.colors import ListedColormap"
   ]
  },
  {
   "cell_type": "code",
   "execution_count": 8,
   "metadata": {},
   "outputs": [],
   "source": [
    "viridisBig = cm.get_cmap('viridis', 512)\n",
    "newcmp = ListedColormap(viridisBig(np.linspace(0.1, 0.95, 256)))"
   ]
  },
  {
   "cell_type": "code",
   "execution_count": 9,
   "metadata": {},
   "outputs": [],
   "source": [
    "def plotProportion(ax, field, xaxis=False, color='black', label=True):\n",
    "    where = []\n",
    "    counts = []\n",
    "    for y in range(len(years)):\n",
    "        c = fieldCounts[field][y]\n",
    "        counts.append((c or -1) / yearTotals[y])\n",
    "        where.append(c is not None)\n",
    "\n",
    "    spacedYears = np.linspace(years[0], years[-1], 460)\n",
    "    f = interp1d(years, counts, kind='quadratic')\n",
    "    smoothCounts=f(spacedYears)\n",
    "    \n",
    "    spacedWhere = sum(([w] * 20 for w in where), [])\n",
    "\n",
    "    ax.fill_between(spacedYears, 0, smoothCounts, where=spacedWhere, color=color)\n",
    "    \n",
    "    smoothCounts = [smoothCounts[i] if spacedWhere[i] else None for i in range(len(smoothCounts))]\n",
    "    ax.plot(spacedYears, smoothCounts, color='black')\n",
    "    \n",
    "    if label:\n",
    "        ax.set_title(field, x=.97, y=0.25, loc='left')\n",
    "\n",
    "    ax.xaxis.set_ticks(np.arange(years[0], years[-1] + 1, 2))\n",
    "    ax.spines['right'].set_visible(False)\n",
    "    ax.spines['top'].set_visible(False)\n",
    "    ax.spines['left'].set_visible(False)\n",
    "    ax.yaxis.set_visible(False)\n",
    "\n",
    "    ax.set_ylim(bottom=0)\n",
    "    \n",
    "    if xaxis:\n",
    "        ax.xaxis.set_visible(False)"
   ]
  },
  {
   "cell_type": "code",
   "execution_count": 10,
   "metadata": {},
   "outputs": [],
   "source": [
    "def plotDistributions(export=False):\n",
    "    fig, axarr = plt.subplots(len(selectedFields), 1, sharex=True, figsize=(14, 12))\n",
    "\n",
    "    for i in range(len(selectedFields)):\n",
    "        plotProportion(\n",
    "            axarr[i],\n",
    "            selectedFields[i],\n",
    "            xaxis=(i != len(selectedFields) - 1),\n",
    "            color=newcmp(1 - i / len(selectedFields)),\n",
    "            label=(not export)\n",
    "        )\n",
    "\n",
    "    if export:\n",
    "        fig.savefig('student_distribution.pdf', bbox_inches='tight')\n",
    "    else:\n",
    "        fig.text(\n",
    "            0.5, \n",
    "            0.96,\n",
    "            'Columbia international graduate student distribution between selected fields',\n",
    "            ha='center', \n",
    "            fontsize=14\n",
    "        )\n",
    "        fig.tight_layout(rect=[0, 0.03, 1, 0.95])"
   ]
  },
  {
   "cell_type": "code",
   "execution_count": null,
   "metadata": {},
   "outputs": [],
   "source": [
    "plotDistributions()"
   ]
  },
  {
   "cell_type": "code",
   "execution_count": null,
   "metadata": {},
   "outputs": [],
   "source": [
    "plotDistributions(export=True)"
   ]
  },
  {
   "cell_type": "markdown",
   "metadata": {},
   "source": [
    "## Findings"
   ]
  }
 ],
 "metadata": {
  "kernelspec": {
   "display_name": "Python 3",
   "language": "python",
   "name": "python3"
  },
  "language_info": {
   "codemirror_mode": {
    "name": "ipython",
    "version": 3
   },
   "file_extension": ".py",
   "mimetype": "text/x-python",
   "name": "python",
   "nbconvert_exporter": "python",
   "pygments_lexer": "ipython3",
   "version": "3.7.0"
  }
 },
 "nbformat": 4,
 "nbformat_minor": 2
}

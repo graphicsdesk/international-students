{
 "cells": [
  {
   "cell_type": "markdown",
   "metadata": {},
   "source": [
    "# Guiding questions\n",
    "\n",
    "In which fields does the international student population overtake the domestic student population?\n",
    "\n",
    "How important a role do international students play in our graduate programs?\n",
    "\n",
    "Are students making compromises in academic choices in order to receive better chances of getting work visa?"
   ]
  },
  {
   "cell_type": "code",
   "execution_count": 7,
   "metadata": {},
   "outputs": [],
   "source": [
    "from collections import defaultdict\n",
    "import pandas as pd\n",
    "import numpy as np\n",
    "import matplotlib.pyplot as plt\n",
    "import matplotlib.cm as cm"
   ]
  },
  {
   "cell_type": "code",
   "execution_count": 8,
   "metadata": {},
   "outputs": [],
   "source": [
    "df = pd.read_csv('../data/GSS_Columbia_Detailed.csv', header=4, index_col=False, thousands=',')\n",
    "df.columns = [\n",
    "    'Year', 'Institution Name', 'Detailed Fields', 'Citizenship', 'Count'\n",
    "]\n",
    "df = df.drop('Institution Name', 1) # We assume all data describes Columbia\n",
    "df = df[1:-3] # Drop first row (total) annd last 3 rows (footnotes)\n",
    "\n",
    "# Re-structure dataframe into a tree\n",
    "d = defaultdict(lambda: defaultdict(dict))\n",
    "for _, row in df.iterrows():\n",
    "    year = int(row['Year'])\n",
    "    field = row['Detailed Fields']\n",
    "    citizenship = row['Citizenship']\n",
    "    d[year][field][citizenship] = row['Count']\n",
    "\n",
    "ufields = df['Detailed Fields'].unique()"
   ]
  },
  {
   "cell_type": "code",
   "execution_count": 9,
   "metadata": {},
   "outputs": [],
   "source": [
    "DOM_COL_NAME = 'U.S. citizens and permanent residents (non-U.S. citizens holding green cards)'\n",
    "INT_COL_NAME = 'Foreign nationals'\n",
    "\n",
    "DOM_LABEL = 'U.S. citizens & permanent residents'\n",
    "INT_LABEL = INT_COL_NAME"
   ]
  },
  {
   "cell_type": "code",
   "execution_count": 10,
   "metadata": {},
   "outputs": [],
   "source": [
    "years = np.arange(1994, 2017)"
   ]
  },
  {
   "cell_type": "code",
   "execution_count": 11,
   "metadata": {},
   "outputs": [],
   "source": [
    "def sumLists(a, b):\n",
    "    return [(a[i] or 0) + (b[i] or 0) for i in range(len(a))]\n",
    "\n",
    "yearTotals = [0 for _ in range(len(years))]\n",
    "fieldCounts = {}\n",
    "for f in ufields:\n",
    "    fieldCounts[f] = [d[year][f].get(INT_COL_NAME, None) for year in years]\n",
    "    yearTotals = sumLists(yearTotals, fieldCounts[f])"
   ]
  },
  {
   "cell_type": "code",
   "execution_count": 83,
   "metadata": {},
   "outputs": [],
   "source": [
    "selectedFields = [\n",
    "    'Statistics', \n",
    "    'Industrial and manufacturing engineering',\n",
    "    'Computer sciences',\n",
    "    'Electrical engineering',\n",
    "    'Engineering science, mechanics, and physics',\n",
    "    'Mechanical engineering',\n",
    "    'Mathematics and applied mathematics',\n",
    "    'Economics (except agricultural)',\n",
    "    'Chemistry',\n",
    "    'Physics',\n",
    "    'Biology',\n",
    "    'Sociology',\n",
    "    'Nutrition'\n",
    "]"
   ]
  },
  {
   "cell_type": "code",
   "execution_count": 84,
   "metadata": {},
   "outputs": [],
   "source": [
    "from scipy.interpolate import interp1d\n",
    "from matplotlib import cm"
   ]
  },
  {
   "cell_type": "code",
   "execution_count": 85,
   "metadata": {},
   "outputs": [],
   "source": [
    "def plotProportion(ax, field, xaxis=False, color='black'):\n",
    "    where = []\n",
    "    counts = []\n",
    "    for y in range(len(years)):\n",
    "        c = fieldCounts[field][y]\n",
    "        counts.append((c or -1) / yearTotals[y])\n",
    "        where.append(c is not None)\n",
    "\n",
    "    spacedYears = np.linspace(years[0], years[-1], 460)\n",
    "    f = interp1d(years, counts, kind='quadratic')\n",
    "    smoothCounts=f(spacedYears)\n",
    "    \n",
    "    spacedWhere = sum(([w] * 20 for w in where), [])\n",
    "\n",
    "    ax.fill_between(spacedYears, 0, smoothCounts, where=spacedWhere, color=color)\n",
    "    \n",
    "    smoothCounts = [smoothCounts[i] if spacedWhere[i] else None for i in range(len(smoothCounts))]\n",
    "    ax.plot(spacedYears, smoothCounts, color='black')\n",
    "    ax.set_title(field, x=.97, y=0.25, loc='left')\n",
    "\n",
    "    ax.spines['right'].set_visible(False)\n",
    "    ax.spines['top'].set_visible(False)\n",
    "    ax.spines['left'].set_visible(False)\n",
    "    ax.yaxis.set_visible(False)\n",
    "\n",
    "    ax.set_ylim(bottom=0)\n",
    "    \n",
    "    if xaxis:\n",
    "        ax.xaxis.set_visible(False)"
   ]
  },
  {
   "cell_type": "code",
   "execution_count": null,
   "metadata": {},
   "outputs": [],
   "source": [
    "fig, axarr = plt.subplots(len(selectedFields), 1, sharex=True, figsize=(14, 12))\n",
    "\n",
    "for i in range(len(selectedFields)):\n",
    "    plotProportion(axarr[i], selectedFields[i], xaxis=(i != len(selectedFields) - 1), color=cm.viridis(i / len(selectedFields)))\n",
    "\n",
    "fig.text(0.5, 0.96, 'International graduate student distribution between selected fields', ha='center', fontsize=14)\n",
    "\n",
    "fig.tight_layout(rect=[0, 0.03, 1, 0.95])\n",
    "fig.savefig('student_distribution.png')"
   ]
  },
  {
   "cell_type": "markdown",
   "metadata": {},
   "source": [
    "## Findings"
   ]
  }
 ],
 "metadata": {
  "kernelspec": {
   "display_name": "Python 3",
   "language": "python",
   "name": "python3"
  },
  "language_info": {
   "codemirror_mode": {
    "name": "ipython",
    "version": 3
   },
   "file_extension": ".py",
   "mimetype": "text/x-python",
   "name": "python",
   "nbconvert_exporter": "python",
   "pygments_lexer": "ipython3",
   "version": "3.7.0"
  }
 },
 "nbformat": 4,
 "nbformat_minor": 2
}
